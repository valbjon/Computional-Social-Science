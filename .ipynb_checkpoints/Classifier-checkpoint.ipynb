{
 "cells": [
  {
   "cell_type": "code",
   "execution_count": 2,
   "metadata": {},
   "outputs": [],
   "source": [
    "import pandas as pd "
   ]
  },
  {
   "cell_type": "code",
   "execution_count": 11,
   "metadata": {},
   "outputs": [],
   "source": [
    "df = pd.read_csv('person_data.csv')"
   ]
  },
  {
   "cell_type": "code",
   "execution_count": 12,
   "metadata": {},
   "outputs": [
    {
     "data": {
      "text/html": [
       "<div>\n",
       "<style scoped>\n",
       "    .dataframe tbody tr th:only-of-type {\n",
       "        vertical-align: middle;\n",
       "    }\n",
       "\n",
       "    .dataframe tbody tr th {\n",
       "        vertical-align: top;\n",
       "    }\n",
       "\n",
       "    .dataframe thead th {\n",
       "        text-align: right;\n",
       "    }\n",
       "</style>\n",
       "<table border=\"1\" class=\"dataframe\">\n",
       "  <thead>\n",
       "    <tr style=\"text-align: right;\">\n",
       "      <th></th>\n",
       "      <th>uri</th>\n",
       "      <th>wikidata_entity</th>\n",
       "      <th>class</th>\n",
       "      <th>gender</th>\n",
       "      <th>edition_count</th>\n",
       "      <th>available_english</th>\n",
       "      <th>available_editions</th>\n",
       "      <th>birth_year</th>\n",
       "      <th>death_year</th>\n",
       "      <th>page_length</th>\n",
       "      <th>page_out_degree</th>\n",
       "      <th>label</th>\n",
       "      <th>abstract</th>\n",
       "    </tr>\n",
       "  </thead>\n",
       "  <tbody>\n",
       "    <tr>\n",
       "      <th>0</th>\n",
       "      <td>http://dbpedia.org/resource/John_Lingard</td>\n",
       "      <td>Q5959147</td>\n",
       "      <td>http://dbpedia.org/ontology/Scientist</td>\n",
       "      <td>male</td>\n",
       "      <td>2</td>\n",
       "      <td>True</td>\n",
       "      <td>en|sv</td>\n",
       "      <td>1771.0</td>\n",
       "      <td>1851.0</td>\n",
       "      <td>11369</td>\n",
       "      <td>30</td>\n",
       "      <td>John Lingard</td>\n",
       "      <td>Rev Dr John Lingard (5 February 1771 – 17 July...</td>\n",
       "    </tr>\n",
       "    <tr>\n",
       "      <th>1</th>\n",
       "      <td>http://dbpedia.org/resource/Monica_Lewinsky</td>\n",
       "      <td>Q212659</td>\n",
       "      <td>http://dbpedia.org/ontology/Person</td>\n",
       "      <td>female</td>\n",
       "      <td>36</td>\n",
       "      <td>True</td>\n",
       "      <td>en|fy|fr|simple|eo|he|pt|id|tr|is|th|ja|hu|ro|...</td>\n",
       "      <td>1973.0</td>\n",
       "      <td>NaN</td>\n",
       "      <td>61</td>\n",
       "      <td>1</td>\n",
       "      <td>Monica lewinsky</td>\n",
       "      <td>Monica Samille Lewinsky (born July 23, 1973) i...</td>\n",
       "    </tr>\n",
       "    <tr>\n",
       "      <th>2</th>\n",
       "      <td>http://dbpedia.org/resource/John_White_(coloni...</td>\n",
       "      <td>Q3182736</td>\n",
       "      <td>http://dbpedia.org/ontology/Artist</td>\n",
       "      <td>male</td>\n",
       "      <td>4</td>\n",
       "      <td>True</td>\n",
       "      <td>en|fr|it|ru</td>\n",
       "      <td>NaN</td>\n",
       "      <td>NaN</td>\n",
       "      <td>25668</td>\n",
       "      <td>108</td>\n",
       "      <td>John White (colonist and artist)</td>\n",
       "      <td>John White (c. 1540 – c. 1593) was an English ...</td>\n",
       "    </tr>\n",
       "    <tr>\n",
       "      <th>3</th>\n",
       "      <td>http://dbpedia.org/resource/Muhammad</td>\n",
       "      <td>Q9458</td>\n",
       "      <td>http://dbpedia.org/ontology/Person</td>\n",
       "      <td>male</td>\n",
       "      <td>105</td>\n",
       "      <td>True</td>\n",
       "      <td>en|lt|ast|lv|io|su|fy|simple|ms|tl|ru|sl|la|pm...</td>\n",
       "      <td>NaN</td>\n",
       "      <td>632.0</td>\n",
       "      <td>43</td>\n",
       "      <td>1</td>\n",
       "      <td>MuHammad</td>\n",
       "      <td>Abū al-Qāsim Muḥammad ibn ʿAbd Allāh ibn ʿAbd ...</td>\n",
       "    </tr>\n",
       "    <tr>\n",
       "      <th>4</th>\n",
       "      <td>http://dbpedia.org/resource/Bob_Arum</td>\n",
       "      <td>Q887766</td>\n",
       "      <td>http://dbpedia.org/ontology/Person</td>\n",
       "      <td>male</td>\n",
       "      <td>6</td>\n",
       "      <td>True</td>\n",
       "      <td>en|de|th|es|fr|ja</td>\n",
       "      <td>1931.0</td>\n",
       "      <td>NaN</td>\n",
       "      <td>11851</td>\n",
       "      <td>59</td>\n",
       "      <td>Bob Arum</td>\n",
       "      <td>Robert \"Bob\" Arum (born December 8, 1931 in Ne...</td>\n",
       "    </tr>\n",
       "  </tbody>\n",
       "</table>\n",
       "</div>"
      ],
      "text/plain": [
       "                                                 uri wikidata_entity  \\\n",
       "0           http://dbpedia.org/resource/John_Lingard        Q5959147   \n",
       "1        http://dbpedia.org/resource/Monica_Lewinsky         Q212659   \n",
       "2  http://dbpedia.org/resource/John_White_(coloni...        Q3182736   \n",
       "3               http://dbpedia.org/resource/Muhammad           Q9458   \n",
       "4               http://dbpedia.org/resource/Bob_Arum         Q887766   \n",
       "\n",
       "                                   class  gender  edition_count  \\\n",
       "0  http://dbpedia.org/ontology/Scientist    male              2   \n",
       "1     http://dbpedia.org/ontology/Person  female             36   \n",
       "2     http://dbpedia.org/ontology/Artist    male              4   \n",
       "3     http://dbpedia.org/ontology/Person    male            105   \n",
       "4     http://dbpedia.org/ontology/Person    male              6   \n",
       "\n",
       "   available_english                                 available_editions  \\\n",
       "0               True                                              en|sv   \n",
       "1               True  en|fy|fr|simple|eo|he|pt|id|tr|is|th|ja|hu|ro|...   \n",
       "2               True                                        en|fr|it|ru   \n",
       "3               True  en|lt|ast|lv|io|su|fy|simple|ms|tl|ru|sl|la|pm...   \n",
       "4               True                                  en|de|th|es|fr|ja   \n",
       "\n",
       "   birth_year  death_year  page_length  page_out_degree  \\\n",
       "0      1771.0      1851.0        11369               30   \n",
       "1      1973.0         NaN           61                1   \n",
       "2         NaN         NaN        25668              108   \n",
       "3         NaN       632.0           43                1   \n",
       "4      1931.0         NaN        11851               59   \n",
       "\n",
       "                              label  \\\n",
       "0                      John Lingard   \n",
       "1                   Monica lewinsky   \n",
       "2  John White (colonist and artist)   \n",
       "3                          MuHammad   \n",
       "4                          Bob Arum   \n",
       "\n",
       "                                            abstract  \n",
       "0  Rev Dr John Lingard (5 February 1771 – 17 July...  \n",
       "1  Monica Samille Lewinsky (born July 23, 1973) i...  \n",
       "2  John White (c. 1540 – c. 1593) was an English ...  \n",
       "3  Abū al-Qāsim Muḥammad ibn ʿAbd Allāh ibn ʿAbd ...  \n",
       "4  Robert \"Bob\" Arum (born December 8, 1931 in Ne...  "
      ]
     },
     "execution_count": 12,
     "metadata": {},
     "output_type": "execute_result"
    }
   ],
   "source": [
    "df.head()"
   ]
  },
  {
   "cell_type": "code",
   "execution_count": 13,
   "metadata": {},
   "outputs": [
    {
     "data": {
      "text/plain": [
       "893380"
      ]
     },
     "execution_count": 13,
     "metadata": {},
     "output_type": "execute_result"
    }
   ],
   "source": [
    "len(df)"
   ]
  },
  {
   "cell_type": "code",
   "execution_count": null,
   "metadata": {},
   "outputs": [],
   "source": []
  }
 ],
 "metadata": {
  "kernelspec": {
   "display_name": "Css - binder",
   "language": "python",
   "name": "cssresearch"
  },
  "language_info": {
   "codemirror_mode": {
    "name": "ipython",
    "version": 3
   },
   "file_extension": ".py",
   "mimetype": "text/x-python",
   "name": "python",
   "nbconvert_exporter": "python",
   "pygments_lexer": "ipython3",
   "version": "3.6.8"
  }
 },
 "nbformat": 4,
 "nbformat_minor": 2
}
